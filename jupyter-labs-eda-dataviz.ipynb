{
 "cells": [
  {
   "cell_type": "markdown",
   "metadata": {},
   "source": [
    "<p style=\"text-align:center\">\n",
    "    <a href=\"https://skills.network/?utm_medium=Exinfluencer&utm_source=Exinfluencer&utm_content=000026UJ&utm_term=10006555&utm_id=NA-SkillsNetwork-Channel-SkillsNetworkCoursesIBMDS0321ENSkillsNetwork26802033-2022-01-01\" target=\"_blank\">\n",
    "    <img src=\"https://cf-courses-data.s3.us.cloud-object-storage.appdomain.cloud/assets/logos/SN_web_lightmode.png\" width=\"200\" alt=\"Skills Network Logo\"  />\n",
    "    </a>\n",
    "</p>\n"
   ]
  },
  {
   "cell_type": "markdown",
   "metadata": {},
   "source": [
    "# **SpaceX  Falcon 9 First Stage Landing Prediction**\n"
   ]
  },
  {
   "cell_type": "markdown",
   "metadata": {},
   "source": [
    "## Assignment: Exploring and Preparing Data\n"
   ]
  },
  {
   "cell_type": "markdown",
   "metadata": {},
   "source": [
    "Estimated time needed: **70** minutes\n"
   ]
  },
  {
   "cell_type": "markdown",
   "metadata": {},
   "source": [
    "In this assignment, we will predict if the Falcon 9 first stage will land successfully. SpaceX advertises Falcon 9 rocket launches on its website with a cost of 62 million dollars; other providers cost upward of 165 million dollars each, much of the savings is due to the fact that SpaceX can reuse the first stage.\n",
    "\n",
    "In this lab, you will perform Exploratory Data Analysis and Feature Engineering.\n"
   ]
  },
  {
   "cell_type": "markdown",
   "metadata": {},
   "source": [
    "Falcon 9 first stage will land successfully\n"
   ]
  },
  {
   "cell_type": "markdown",
   "metadata": {},
   "source": [
    "![](https://cf-courses-data.s3.us.cloud-object-storage.appdomain.cloud/IBMDeveloperSkillsNetwork-DS0701EN-SkillsNetwork/api/Images/landing\\_1.gif)\n"
   ]
  },
  {
   "cell_type": "markdown",
   "metadata": {},
   "source": [
    "Several examples of an unsuccessful landing are shown here:\n"
   ]
  },
  {
   "cell_type": "markdown",
   "metadata": {},
   "source": [
    "![](https://cf-courses-data.s3.us.cloud-object-storage.appdomain.cloud/IBMDeveloperSkillsNetwork-DS0701EN-SkillsNetwork/api/Images/crash.gif)\n"
   ]
  },
  {
   "cell_type": "markdown",
   "metadata": {},
   "source": [
    "Most unsuccessful landings are planned. Space X performs a controlled landing in the oceans.\n"
   ]
  },
  {
   "cell_type": "markdown",
   "metadata": {},
   "source": [
    "## Objectives\n",
    "\n",
    "Perform exploratory Data Analysis and Feature Engineering using `Pandas` and `Matplotlib`\n",
    "\n",
    "*   Exploratory Data Analysis\n",
    "*   Preparing Data  Feature Engineering\n"
   ]
  },
  {
   "cell_type": "markdown",
   "metadata": {},
   "source": [
    "***\n"
   ]
  },
  {
   "cell_type": "markdown",
   "metadata": {},
   "source": [
    "### Import Libraries and Define Auxiliary Functions\n"
   ]
  },
  {
   "cell_type": "markdown",
   "metadata": {},
   "source": [
    "We will import the following libraries the lab\n"
   ]
  },
  {
   "cell_type": "code",
   "execution_count": 1,
   "metadata": {},
   "outputs": [],
   "source": [
    "# andas is a software library written for the Python programming language for data manipulation and analysis.\n",
    "import pandas as pd\n",
    "#NumPy is a library for the Python programming language, adding support for large, multi-dimensional arrays and matrices, along with a large collection of high-level mathematical functions to operate on these arrays\n",
    "import numpy as np\n",
    "# Matplotlib is a plotting library for python and pyplot gives us a MatLab like plotting framework. We will use this in our plotter function to plot data.\n",
    "import matplotlib.pyplot as plt\n",
    "#Seaborn is a Python data visualization library based on matplotlib. It provides a high-level interface for drawing attractive and informative statistical graphics\n",
    "import seaborn as sns"
   ]
  },
  {
   "cell_type": "markdown",
   "metadata": {},
   "source": [
    "## Exploratory Data Analysis\n"
   ]
  },
  {
   "cell_type": "markdown",
   "metadata": {},
   "source": [
    "First, let's read the SpaceX dataset into a Pandas dataframe and print its summary\n"
   ]
  },
  {
   "cell_type": "code",
   "execution_count": 2,
   "metadata": {},
   "outputs": [
    {
     "data": {
      "text/html": [
       "<div>\n",
       "<style scoped>\n",
       "    .dataframe tbody tr th:only-of-type {\n",
       "        vertical-align: middle;\n",
       "    }\n",
       "\n",
       "    .dataframe tbody tr th {\n",
       "        vertical-align: top;\n",
       "    }\n",
       "\n",
       "    .dataframe thead th {\n",
       "        text-align: right;\n",
       "    }\n",
       "</style>\n",
       "<table border=\"1\" class=\"dataframe\">\n",
       "  <thead>\n",
       "    <tr style=\"text-align: right;\">\n",
       "      <th></th>\n",
       "      <th>FlightNumber</th>\n",
       "      <th>Date</th>\n",
       "      <th>BoosterVersion</th>\n",
       "      <th>PayloadMass</th>\n",
       "      <th>Orbit</th>\n",
       "      <th>LaunchSite</th>\n",
       "      <th>Outcome</th>\n",
       "      <th>Flights</th>\n",
       "      <th>GridFins</th>\n",
       "      <th>Reused</th>\n",
       "      <th>Legs</th>\n",
       "      <th>LandingPad</th>\n",
       "      <th>Block</th>\n",
       "      <th>ReusedCount</th>\n",
       "      <th>Serial</th>\n",
       "      <th>Longitude</th>\n",
       "      <th>Latitude</th>\n",
       "      <th>Class</th>\n",
       "    </tr>\n",
       "  </thead>\n",
       "  <tbody>\n",
       "    <tr>\n",
       "      <th>0</th>\n",
       "      <td>1</td>\n",
       "      <td>2010-06-04</td>\n",
       "      <td>Falcon 9</td>\n",
       "      <td>6104.959412</td>\n",
       "      <td>LEO</td>\n",
       "      <td>CCAFS SLC 40</td>\n",
       "      <td>None None</td>\n",
       "      <td>1</td>\n",
       "      <td>False</td>\n",
       "      <td>False</td>\n",
       "      <td>False</td>\n",
       "      <td>NaN</td>\n",
       "      <td>1.0</td>\n",
       "      <td>0</td>\n",
       "      <td>B0003</td>\n",
       "      <td>-80.577366</td>\n",
       "      <td>28.561857</td>\n",
       "      <td>0</td>\n",
       "    </tr>\n",
       "    <tr>\n",
       "      <th>1</th>\n",
       "      <td>2</td>\n",
       "      <td>2012-05-22</td>\n",
       "      <td>Falcon 9</td>\n",
       "      <td>525.000000</td>\n",
       "      <td>LEO</td>\n",
       "      <td>CCAFS SLC 40</td>\n",
       "      <td>None None</td>\n",
       "      <td>1</td>\n",
       "      <td>False</td>\n",
       "      <td>False</td>\n",
       "      <td>False</td>\n",
       "      <td>NaN</td>\n",
       "      <td>1.0</td>\n",
       "      <td>0</td>\n",
       "      <td>B0005</td>\n",
       "      <td>-80.577366</td>\n",
       "      <td>28.561857</td>\n",
       "      <td>0</td>\n",
       "    </tr>\n",
       "    <tr>\n",
       "      <th>2</th>\n",
       "      <td>3</td>\n",
       "      <td>2013-03-01</td>\n",
       "      <td>Falcon 9</td>\n",
       "      <td>677.000000</td>\n",
       "      <td>ISS</td>\n",
       "      <td>CCAFS SLC 40</td>\n",
       "      <td>None None</td>\n",
       "      <td>1</td>\n",
       "      <td>False</td>\n",
       "      <td>False</td>\n",
       "      <td>False</td>\n",
       "      <td>NaN</td>\n",
       "      <td>1.0</td>\n",
       "      <td>0</td>\n",
       "      <td>B0007</td>\n",
       "      <td>-80.577366</td>\n",
       "      <td>28.561857</td>\n",
       "      <td>0</td>\n",
       "    </tr>\n",
       "    <tr>\n",
       "      <th>3</th>\n",
       "      <td>4</td>\n",
       "      <td>2013-09-29</td>\n",
       "      <td>Falcon 9</td>\n",
       "      <td>500.000000</td>\n",
       "      <td>PO</td>\n",
       "      <td>VAFB SLC 4E</td>\n",
       "      <td>False Ocean</td>\n",
       "      <td>1</td>\n",
       "      <td>False</td>\n",
       "      <td>False</td>\n",
       "      <td>False</td>\n",
       "      <td>NaN</td>\n",
       "      <td>1.0</td>\n",
       "      <td>0</td>\n",
       "      <td>B1003</td>\n",
       "      <td>-120.610829</td>\n",
       "      <td>34.632093</td>\n",
       "      <td>0</td>\n",
       "    </tr>\n",
       "    <tr>\n",
       "      <th>4</th>\n",
       "      <td>5</td>\n",
       "      <td>2013-12-03</td>\n",
       "      <td>Falcon 9</td>\n",
       "      <td>3170.000000</td>\n",
       "      <td>GTO</td>\n",
       "      <td>CCAFS SLC 40</td>\n",
       "      <td>None None</td>\n",
       "      <td>1</td>\n",
       "      <td>False</td>\n",
       "      <td>False</td>\n",
       "      <td>False</td>\n",
       "      <td>NaN</td>\n",
       "      <td>1.0</td>\n",
       "      <td>0</td>\n",
       "      <td>B1004</td>\n",
       "      <td>-80.577366</td>\n",
       "      <td>28.561857</td>\n",
       "      <td>0</td>\n",
       "    </tr>\n",
       "  </tbody>\n",
       "</table>\n",
       "</div>"
      ],
      "text/plain": [
       "   FlightNumber        Date BoosterVersion  PayloadMass Orbit    LaunchSite  \\\n",
       "0             1  2010-06-04       Falcon 9  6104.959412   LEO  CCAFS SLC 40   \n",
       "1             2  2012-05-22       Falcon 9   525.000000   LEO  CCAFS SLC 40   \n",
       "2             3  2013-03-01       Falcon 9   677.000000   ISS  CCAFS SLC 40   \n",
       "3             4  2013-09-29       Falcon 9   500.000000    PO   VAFB SLC 4E   \n",
       "4             5  2013-12-03       Falcon 9  3170.000000   GTO  CCAFS SLC 40   \n",
       "\n",
       "       Outcome  Flights  GridFins  Reused   Legs LandingPad  Block  \\\n",
       "0    None None        1     False   False  False        NaN    1.0   \n",
       "1    None None        1     False   False  False        NaN    1.0   \n",
       "2    None None        1     False   False  False        NaN    1.0   \n",
       "3  False Ocean        1     False   False  False        NaN    1.0   \n",
       "4    None None        1     False   False  False        NaN    1.0   \n",
       "\n",
       "   ReusedCount Serial   Longitude   Latitude  Class  \n",
       "0            0  B0003  -80.577366  28.561857      0  \n",
       "1            0  B0005  -80.577366  28.561857      0  \n",
       "2            0  B0007  -80.577366  28.561857      0  \n",
       "3            0  B1003 -120.610829  34.632093      0  \n",
       "4            0  B1004  -80.577366  28.561857      0  "
      ]
     },
     "execution_count": 2,
     "metadata": {},
     "output_type": "execute_result"
    }
   ],
   "source": [
    "df=pd.read_csv(\"https://cf-courses-data.s3.us.cloud-object-storage.appdomain.cloud/IBM-DS0321EN-SkillsNetwork/datasets/dataset_part_2.csv\")\n",
    "\n",
    "# If you were unable to complete the previous lab correctly you can uncomment and load this csv\n",
    "\n",
    "# df = pd.read_csv('https://cf-courses-data.s3.us.cloud-object-storage.appdomain.cloud/IBMDeveloperSkillsNetwork-DS0701EN-SkillsNetwork/api/dataset_part_2.csv')\n",
    "\n",
    "df.head(5)"
   ]
  },
  {
   "cell_type": "markdown",
   "metadata": {},
   "source": [
    "First, let's try to see how the `FlightNumber` (indicating the continuous launch attempts.) and `Payload` variables would affect the launch outcome.\n",
    "\n",
    "We can plot out the <code>FlightNumber</code> vs. <code>PayloadMass</code>and overlay the outcome of the launch. We see that as the flight number increases, the first stage is more likely to land successfully. The payload mass is also important; it seems the more massive the payload, the less likely the first stage will return.\n"
   ]
  },
  {
   "cell_type": "code",
   "execution_count": 3,
   "metadata": {},
   "outputs": [
    {
     "data": {
      "image/png": "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\n",
      "text/plain": [
       "<Figure size 1842.38x360 with 1 Axes>"
      ]
     },
     "metadata": {
      "needs_background": "light"
     },
     "output_type": "display_data"
    }
   ],
   "source": [
    "sns.catplot(y=\"PayloadMass\", x=\"FlightNumber\", hue=\"Class\", data=df, aspect = 5)\n",
    "plt.xlabel(\"Flight Number\",fontsize=20)\n",
    "plt.ylabel(\"Pay load Mass (kg)\",fontsize=20)\n",
    "plt.show()"
   ]
  },
  {
   "cell_type": "markdown",
   "metadata": {},
   "source": [
    "We see that different launch sites have different success rates.  <code>CCAFS LC-40</code>, has a success rate of 60 %, while  <code>KSC LC-39A</code> and <code>VAFB SLC 4E</code> has a success rate of 77%.\n"
   ]
  },
  {
   "cell_type": "markdown",
   "metadata": {},
   "source": [
    "Next, let's drill down to each site visualize its detailed launch records.\n"
   ]
  },
  {
   "cell_type": "markdown",
   "metadata": {},
   "source": [
    "### TASK 1: Visualize the relationship between Flight Number and Launch Site\n"
   ]
  },
  {
   "cell_type": "markdown",
   "metadata": {},
   "source": [
    "Use the function <code>catplot</code> to plot <code>FlightNumber</code> vs <code>LaunchSite</code>, set the  parameter <code>x</code>  parameter to <code>FlightNumber</code>,set the  <code>y</code> to <code>Launch Site</code> and set the parameter <code>hue</code> to <code>'class'</code>\n"
   ]
  },
  {
   "cell_type": "code",
   "execution_count": 4,
   "metadata": {},
   "outputs": [
    {
     "data": {
      "text/plain": [
       "Text(0.5, 20.80000000000002, 'FlightNumber')"
      ]
     },
     "execution_count": 4,
     "metadata": {},
     "output_type": "execute_result"
    },
    {
     "data": {
      "image/png": "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\n",
      "text/plain": [
       "<Figure size 1842.38x360 with 1 Axes>"
      ]
     },
     "metadata": {
      "needs_background": "light"
     },
     "output_type": "display_data"
    }
   ],
   "source": [
    "# Plot a scatter point chart with x axis to be Flight Number and y axis to be the launch site, and hue to be the class value\n",
    "sns.catplot(y = 'LaunchSite', x = 'FlightNumber', hue = 'Class', data=df, aspect=5)\n",
    "plt.xlabel('FlightNumber', fontsize = 20)"
   ]
  },
  {
   "cell_type": "markdown",
   "metadata": {},
   "source": [
    "Now try to explain the patterns you found in the Flight Number vs. Launch Site scatter point plots.\n"
   ]
  },
  {
   "cell_type": "markdown",
   "metadata": {},
   "source": [
    "### TASK 2: Visualize the relationship between Payload and Launch Site\n"
   ]
  },
  {
   "cell_type": "markdown",
   "metadata": {},
   "source": [
    "We also want to observe if there is any relationship between launch sites and their payload mass.\n"
   ]
  },
  {
   "cell_type": "code",
   "execution_count": 5,
   "metadata": {},
   "outputs": [
    {
     "data": {
      "text/plain": [
       "<seaborn.axisgrid.FacetGrid at 0x7fabc02ac2b0>"
      ]
     },
     "execution_count": 5,
     "metadata": {},
     "output_type": "execute_result"
    },
    {
     "data": {
      "image/png": "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\n",
      "text/plain": [
       "<Figure size 1122.38x360 with 1 Axes>"
      ]
     },
     "metadata": {
      "needs_background": "light"
     },
     "output_type": "display_data"
    }
   ],
   "source": [
    "# Plot a scatter point chart with x axis to be Pay Load Mass (kg) and y axis to be the launch site, and hue to be the class value\n",
    "sns.catplot(y = 'LaunchSite', x = 'PayloadMass', hue = 'Class', data=df, aspect=3)"
   ]
  },
  {
   "cell_type": "markdown",
   "metadata": {},
   "source": [
    "Now if you observe Payload Vs. Launch Site scatter point chart you will find for the VAFB-SLC  launchsite there are no  rockets  launched for  heavypayload mass(greater than 10000).\n"
   ]
  },
  {
   "cell_type": "markdown",
   "metadata": {},
   "source": [
    "### TASK  3: Visualize the relationship between success rate of each orbit type\n"
   ]
  },
  {
   "cell_type": "markdown",
   "metadata": {},
   "source": [
    "Next, we want to visually check if there are any relationship between success rate and orbit type.\n"
   ]
  },
  {
   "cell_type": "markdown",
   "metadata": {},
   "source": [
    "Let's create a `bar chart` for the sucess rate of each orbit\n"
   ]
  },
  {
   "cell_type": "code",
   "execution_count": 6,
   "metadata": {},
   "outputs": [],
   "source": [
    "# HINT use groupby method on Orbit column and get the mean of Class column\n",
    "df['Orbit'].unique()\n",
    "orbit = df.groupby('Orbit')\n",
    "mean = orbit['Class'].mean()"
   ]
  },
  {
   "cell_type": "markdown",
   "metadata": {},
   "source": [
    "Analyze the plotted bar chart try to find which orbits have high sucess rate.\n"
   ]
  },
  {
   "cell_type": "code",
   "execution_count": 7,
   "metadata": {},
   "outputs": [
    {
     "data": {
      "text/plain": [
       "<AxesSubplot:xlabel='Orbit'>"
      ]
     },
     "execution_count": 7,
     "metadata": {},
     "output_type": "execute_result"
    },
    {
     "data": {
      "image/png": "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\n",
      "text/plain": [
       "<Figure size 1440x432 with 1 Axes>"
      ]
     },
     "metadata": {
      "needs_background": "light"
     },
     "output_type": "display_data"
    }
   ],
   "source": [
    "mean.plot(kind = 'bar', figsize = (20,6), rot = 360)"
   ]
  },
  {
   "cell_type": "markdown",
   "metadata": {},
   "source": [
    "### TASK  4: Visualize the relationship between FlightNumber and Orbit type\n"
   ]
  },
  {
   "cell_type": "markdown",
   "metadata": {},
   "source": [
    "For each orbit, we want to see if there is any relationship between FlightNumber and Orbit type.\n"
   ]
  },
  {
   "cell_type": "code",
   "execution_count": 8,
   "metadata": {},
   "outputs": [
    {
     "data": {
      "text/plain": [
       "<seaborn.axisgrid.FacetGrid at 0x7fabe3b6c310>"
      ]
     },
     "execution_count": 8,
     "metadata": {},
     "output_type": "execute_result"
    },
    {
     "data": {
      "image/png": "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\n",
      "text/plain": [
       "<Figure size 1482.38x360 with 1 Axes>"
      ]
     },
     "metadata": {
      "needs_background": "light"
     },
     "output_type": "display_data"
    }
   ],
   "source": [
    "# Plot a scatter point chart with x axis to be FlightNumber and y axis to be the Orbit, and hue to be the class value\n",
    "sns.catplot(x='FlightNumber',y='Orbit',hue='Class',data=df, aspect=4)"
   ]
  },
  {
   "cell_type": "markdown",
   "metadata": {},
   "source": [
    "You should see that in the LEO orbit the Success appears related to the number of flights; on the other hand, there seems to be no relationship between flight number when in GTO orbit.\n"
   ]
  },
  {
   "cell_type": "markdown",
   "metadata": {},
   "source": [
    "### TASK  5: Visualize the relationship between Payload and Orbit type\n"
   ]
  },
  {
   "cell_type": "markdown",
   "metadata": {},
   "source": [
    "Similarly, we can plot the Payload vs. Orbit scatter point charts to reveal the relationship between Payload and Orbit type\n"
   ]
  },
  {
   "cell_type": "code",
   "execution_count": 9,
   "metadata": {},
   "outputs": [
    {
     "data": {
      "text/plain": [
       "<seaborn.axisgrid.FacetGrid at 0x7fabd005cc10>"
      ]
     },
     "execution_count": 9,
     "metadata": {},
     "output_type": "execute_result"
    },
    {
     "data": {
      "image/png": "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\n",
      "text/plain": [
       "<Figure size 1482.38x360 with 1 Axes>"
      ]
     },
     "metadata": {
      "needs_background": "light"
     },
     "output_type": "display_data"
    }
   ],
   "source": [
    "# Plot a scatter point chart with x axis to be Payload and y axis to be the Orbit, and hue to be the class value\n",
    "sns.catplot(x='PayloadMass',y='Orbit',hue='Class',data=df, aspect=4)"
   ]
  },
  {
   "cell_type": "markdown",
   "metadata": {},
   "source": [
    "With heavy payloads the successful landing or positive landing rate are more for Polar,LEO and ISS.\n",
    "\n",
    "However for GTO we cannot distinguish this well as both positive landing rate and negative landing(unsuccessful mission) are both there here.\n"
   ]
  },
  {
   "cell_type": "markdown",
   "metadata": {},
   "source": [
    "### TASK  6: Visualize the launch success yearly trend\n"
   ]
  },
  {
   "cell_type": "markdown",
   "metadata": {},
   "source": [
    "You can plot a line chart with x axis to be <code>Year</code> and y axis to be average success rate, to get the average launch success trend.\n"
   ]
  },
  {
   "cell_type": "markdown",
   "metadata": {},
   "source": [
    "The function will help you get the year from the date:\n"
   ]
  },
  {
   "cell_type": "code",
   "execution_count": 10,
   "metadata": {},
   "outputs": [],
   "source": [
    "# A function to Extract years from the date \n",
    "year = []\n",
    "def extract_year(date):\n",
    "    for i in df[\"Date\"]:\n",
    "        year.append(i.split(\"-\")[0])\n",
    "    return year\n"
    "extract_year(date)\n",
    "    "
   ]
  },
  {
   "cell_type": "code",
   "execution_count": 11,
   "metadata": {},
   "outputs": [
    {
     "name": "stderr",
     "output_type": "stream",
     "text": [
      "<ipython-input-11-97296726a003>:2: DeprecationWarning: The default dtype for empty Series will be 'object' instead of 'float64' in a future version. Specify a dtype explicitly to silence this warning.\n",
      "  year = pd.Series(year,name = 'Year')\n"
     ]
    },
    {
     "data": {
      "text/html": [
       "<div>\n",
       "<style scoped>\n",
       "    .dataframe tbody tr th:only-of-type {\n",
       "        vertical-align: middle;\n",
       "    }\n",
       "\n",
       "    .dataframe tbody tr th {\n",
       "        vertical-align: top;\n",
       "    }\n",
       "\n",
       "    .dataframe thead th {\n",
       "        text-align: right;\n",
       "    }\n",
       "</style>\n",
       "<table border=\"1\" class=\"dataframe\">\n",
       "  <thead>\n",
       "    <tr style=\"text-align: right;\">\n",
       "      <th></th>\n",
       "      <th>Year</th>\n",
       "      <th>FlightNumber</th>\n",
       "      <th>Date</th>\n",
       "      <th>BoosterVersion</th>\n",
       "      <th>PayloadMass</th>\n",
       "      <th>Orbit</th>\n",
       "      <th>LaunchSite</th>\n",
       "      <th>Outcome</th>\n",
       "      <th>Flights</th>\n",
       "      <th>GridFins</th>\n",
       "      <th>Reused</th>\n",
       "      <th>Legs</th>\n",
       "      <th>LandingPad</th>\n",
       "      <th>Block</th>\n",
       "      <th>ReusedCount</th>\n",
       "      <th>Serial</th>\n",
       "      <th>Longitude</th>\n",
       "      <th>Latitude</th>\n",
       "      <th>Class</th>\n",
       "    </tr>\n",
       "  </thead>\n",
       "  <tbody>\n",
       "    <tr>\n",
       "      <th>0</th>\n",
       "      <td>NaN</td>\n",
       "      <td>1</td>\n",
       "      <td>2010-06-04</td>\n",
       "      <td>Falcon 9</td>\n",
       "      <td>6104.959412</td>\n",
       "      <td>LEO</td>\n",
       "      <td>CCAFS SLC 40</td>\n",
       "      <td>None None</td>\n",
       "      <td>1</td>\n",
       "      <td>False</td>\n",
       "      <td>False</td>\n",
       "      <td>False</td>\n",
       "      <td>NaN</td>\n",
       "      <td>1.0</td>\n",
       "      <td>0</td>\n",
       "      <td>B0003</td>\n",
       "      <td>-80.577366</td>\n",
       "      <td>28.561857</td>\n",
       "      <td>0</td>\n",
       "    </tr>\n",
       "    <tr>\n",
       "      <th>1</th>\n",
       "      <td>NaN</td>\n",
       "      <td>2</td>\n",
       "      <td>2012-05-22</td>\n",
       "      <td>Falcon 9</td>\n",
       "      <td>525.000000</td>\n",
       "      <td>LEO</td>\n",
       "      <td>CCAFS SLC 40</td>\n",
       "      <td>None None</td>\n",
       "      <td>1</td>\n",
       "      <td>False</td>\n",
       "      <td>False</td>\n",
       "      <td>False</td>\n",
       "      <td>NaN</td>\n",
       "      <td>1.0</td>\n",
       "      <td>0</td>\n",
       "      <td>B0005</td>\n",
       "      <td>-80.577366</td>\n",
       "      <td>28.561857</td>\n",
       "      <td>0</td>\n",
       "    </tr>\n",
       "    <tr>\n",
       "      <th>2</th>\n",
       "      <td>NaN</td>\n",
       "      <td>3</td>\n",
       "      <td>2013-03-01</td>\n",
       "      <td>Falcon 9</td>\n",
       "      <td>677.000000</td>\n",
       "      <td>ISS</td>\n",
       "      <td>CCAFS SLC 40</td>\n",
       "      <td>None None</td>\n",
       "      <td>1</td>\n",
       "      <td>False</td>\n",
       "      <td>False</td>\n",
       "      <td>False</td>\n",
       "      <td>NaN</td>\n",
       "      <td>1.0</td>\n",
       "      <td>0</td>\n",
       "      <td>B0007</td>\n",
       "      <td>-80.577366</td>\n",
       "      <td>28.561857</td>\n",
       "      <td>0</td>\n",
       "    </tr>\n",
       "    <tr>\n",
       "      <th>3</th>\n",
       "      <td>NaN</td>\n",
       "      <td>4</td>\n",
       "      <td>2013-09-29</td>\n",
       "      <td>Falcon 9</td>\n",
       "      <td>500.000000</td>\n",
       "      <td>PO</td>\n",
       "      <td>VAFB SLC 4E</td>\n",
       "      <td>False Ocean</td>\n",
       "      <td>1</td>\n",
       "      <td>False</td>\n",
       "      <td>False</td>\n",
       "      <td>False</td>\n",
       "      <td>NaN</td>\n",
       "      <td>1.0</td>\n",
       "      <td>0</td>\n",
       "      <td>B1003</td>\n",
       "      <td>-120.610829</td>\n",
       "      <td>34.632093</td>\n",
       "      <td>0</td>\n",
       "    </tr>\n",
       "    <tr>\n",
       "      <th>4</th>\n",
       "      <td>NaN</td>\n",
       "      <td>5</td>\n",
       "      <td>2013-12-03</td>\n",
       "      <td>Falcon 9</td>\n",
       "      <td>3170.000000</td>\n",
       "      <td>GTO</td>\n",
       "      <td>CCAFS SLC 40</td>\n",
       "      <td>None None</td>\n",
       "      <td>1</td>\n",
       "      <td>False</td>\n",
       "      <td>False</td>\n",
       "      <td>False</td>\n",
       "      <td>NaN</td>\n",
       "      <td>1.0</td>\n",
       "      <td>0</td>\n",
       "      <td>B1004</td>\n",
       "      <td>-80.577366</td>\n",
       "      <td>28.561857</td>\n",
       "      <td>0</td>\n",
       "    </tr>\n",
       "  </tbody>\n",
       "</table>\n",
       "</div>"
      ],
      "text/plain": [
       "   Year  FlightNumber        Date BoosterVersion  PayloadMass Orbit  \\\n",
       "0   NaN             1  2010-06-04       Falcon 9  6104.959412   LEO   \n",
       "1   NaN             2  2012-05-22       Falcon 9   525.000000   LEO   \n",
       "2   NaN             3  2013-03-01       Falcon 9   677.000000   ISS   \n",
       "3   NaN             4  2013-09-29       Falcon 9   500.000000    PO   \n",
       "4   NaN             5  2013-12-03       Falcon 9  3170.000000   GTO   \n",
       "\n",
       "     LaunchSite      Outcome  Flights  GridFins  Reused   Legs LandingPad  \\\n",
       "0  CCAFS SLC 40    None None        1     False   False  False        NaN   \n",
       "1  CCAFS SLC 40    None None        1     False   False  False        NaN   \n",
       "2  CCAFS SLC 40    None None        1     False   False  False        NaN   \n",
       "3   VAFB SLC 4E  False Ocean        1     False   False  False        NaN   \n",
       "4  CCAFS SLC 40    None None        1     False   False  False        NaN   \n",
       "\n",
       "   Block  ReusedCount Serial   Longitude   Latitude  Class  \n",
       "0    1.0            0  B0003  -80.577366  28.561857      0  \n",
       "1    1.0            0  B0005  -80.577366  28.561857      0  \n",
       "2    1.0            0  B0007  -80.577366  28.561857      0  \n",
       "3    1.0            0  B1003 -120.610829  34.632093      0  \n",
       "4    1.0            0  B1004  -80.577366  28.561857      0  "
      ]
     },
     "execution_count": 11,
     "metadata": {},
     "output_type": "execute_result"
    }
   ],
   "source": [
    "# Plot a line chart with x axis to be the extracted year and y axis to be the success rate\n",
    "year = pd.Series(year,name = 'Year')\n",
    "df = pd.concat([year,df], axis=1)\n",
    "df.head()"
   ]
  },
  {
   "cell_type": "code",
   "execution_count": 12,
   "metadata": {},
   "outputs": [
    {
     "name": "stdout",
     "output_type": "stream",
     "text": [
      "Series([], Name: Class, dtype: int64)\n"
     ]
    }
   ],
   "source": [
    "Year = df.groupby('Year')\n",
    "m_Year = Year['Class'].mean()\n",
    "print(m_Year)"
   ]
  },
  {
   "cell_type": "code",
   "execution_count": 13,
   "metadata": {},
   "outputs": [
    {
     "data": {
      "text/plain": [
       "Text(0, 0.5, 'Success rate')"
      ]
     },
     "execution_count": 13,
     "metadata": {},
     "output_type": "execute_result"
    },
    {
     "data": {
      "image/png": "iVBORw0KGgoAAAANSUhEUgAABJ4AAAFzCAYAAAB/8cMRAAAAOXRFWHRTb2Z0d2FyZQBNYXRwbG90bGliIHZlcnNpb24zLjMuNCwgaHR0cHM6Ly9tYXRwbG90bGliLm9yZy8QVMy6AAAACXBIWXMAAAsTAAALEwEAmpwYAAAalUlEQVR4nO3df7DldX3f8dfbReLEH0HLosiiu9VtJxubKL1liHYc64+ERQO2iRbaCKOZYZiKUatVDO1o02aGqR11jETDqFOsJmhGM2zJJojoME0cIheCGILIFmNY2ehqK1qpxYV3/7hn0+vm7u7Zvfs5h3t5PGbu3Pv9dc77zux37vDk+/2e6u4AAAAAwLH2qHkPAAAAAMD6JDwBAAAAMITwBAAAAMAQwhMAAAAAQwhPAAAAAAwhPAEAAAAwxHHzHmCWTjzxxN68efO8xwAAAABYN26++eZvdffGlbY9osLT5s2bs7i4OO8xAAAAANaNqvrawba51Q4AAACAIYQnAAAAAIYQngAAAAAYQngCAAAAYAjhCQAAAIAhhCcAAAAAhhCeAAAAABhCeAIAAABgCOEJAAAAgCGEJwAAAACGEJ4AAAAAGEJ4AgAAAGAI4QkAAACAIYQnAAAAAIYQngAAAAAYQngCAAAAYAjhCQAAAIAhhCcAAAAAhhCeAAAAABhCeAIAAABgCOEJAAAAgCGEJwAAAACGEJ4AAAAAGEJ4AgAAAGAI4QkAAACAIYQnAAAAAIYQngAAAAAYQngCAAAAYAjhCQAAAIAhhCcAAAAAhhCeAAAAABhCeAIAAABgCOEJAAAAgCGEJwAAAACGEJ4AAAAAGEJ4AgAAAGAI4QkAAACAIYQnAAAAAIYQngAAAAAYYq7hqarOrKo7q2pXVV2ywvaqqvdOtt9WVacdsH1DVf1ZVV0zu6kBAAAAmMbcwlNVbUhyeZLtSbYlOa+qth2w2/YkWydfFyZ5/wHbX5/kjsGjAgAAAHAU5nnF0+lJdnX33d39QJKrkpxzwD7nJPlIL7kxyQlVdXKSVNWmJC9N8sFZDg0AAADAdOYZnk5Jcs+y5d2TddPu854kb0ny0KHepKourKrFqlrcu3fvqgYGAAAAYHrzDE+1wrqeZp+qelmSb3b3zYd7k+6+orsXunth48aNRzMnAAAAAEdhnuFpd5JTly1vSnLvlPs8L8nZVfWXWbpF74VV9dFxowIAAABwpOYZnm5KsrWqtlTV8UnOTbLjgH12JDl/8ul2ZyS5r7v3dPfbuntTd2+eHPfZ7v7lmU4PAAAAwCEdN6837u59VXVxkmuTbEjy4e6+vaoummz/QJKdSc5KsivJ/UlePa95AQAAADgy1X3gY5XWr4WFhV5cXJz3GAAAAADrRlXd3N0LK22b5612AAAAAKxjwhMAAAAAQwhPAAAAAAwhPAEAAAAwhPAEAAAAwBDCEwAAAABDCE8AAAAADCE8AQAAADCE8AQAAADAEMITAAAAAEMITwAAAAAMITwBAAAAMITwBAAAAMAQwhMAAAAAQwhPAAAAAAwhPAEAAAAwhPAEAAAAwBDCEwAAAABDCE8AAAAADCE8AQAAADCE8AQAAADAEMITAAAAAEMITwAAAAAMITwBAAAAMITwBAAAAMAQwhMAAAAAQwhPAAAAAAwhPAEAAAAwhPAEAAAAwBDCEwAAAABDCE8AAAAADCE8AQAAADCE8AQAAADAEMITAAAAAEMITwAAAAAMITwBAAAAMITwBAAAAMAQwhMAAAAAQwhPAAAAAAwhPAEAAAAwhPAEAAAAwBDCEwAAAABDCE8AAAAADCE8AQAAADCE8AQAAADAEMITAAAAAEMITwAAAAAMITwBAAAAMITwBAAAAMAQwhMAAAAAQ8w1PFXVmVV1Z1XtqqpLVtheVfXeyfbbquq0yfpTq+pzVXVHVd1eVa+f/fQAAAAAHMrcwlNVbUhyeZLtSbYlOa+qth2w2/YkWydfFyZ5/2T9viRv6u6fTHJGkteucCwAAAAAczTPK55OT7Kru+/u7geSXJXknAP2OSfJR3rJjUlOqKqTu3tPd9+SJN39vSR3JDlllsMDAAAAcGjzDE+nJLln2fLu/O14dNh9qmpzkuck+dOV3qSqLqyqxapa3Lt372pnBgAAAGBK8wxPtcK6PpJ9qupxST6Z5A3d/d2V3qS7r+juhe5e2Lhx41EPCwAAAMCRmWd42p3k1GXLm5LcO+0+VfXoLEWnj3X3pwbOCQAAAMBRmGd4uinJ1qraUlXHJzk3yY4D9tmR5PzJp9udkeS+7t5TVZXkQ0nu6O53zXZsAAAAAKZx3LzeuLv3VdXFSa5NsiHJh7v79qq6aLL9A0l2Jjkrya4k9yd59eTw5yV5VZIvVdWtk3W/1t07Z/grAAAAAHAI1X3gY5XWr4WFhV5cXJz3GAAAAADrRlXd3N0LK22b5612AAAAAKxjwhMAAAAAQwhPAAAAAAwhPAEAAAAwhPAEAAAAwBDCEwAAAABDCE8AAAAADCE8AQAAADCE8AQAAADAEMITAAAAAEMITwAAAAAMITwBAAAAMITwBAAAAMAQwhMAAAAAQwhPAAAAAAwhPAEAAAAwhPAEAAAAwBDCEwAAAABDCE8AAAAADCE8AQAAADCE8AQAAADAEMITAAAAAEMITwAAAAAMMXV4qqrHjhwEAAAAgPXlsOGpqp5bVX+R5I7J8s9U1W8NnwwAAACANW2aK57eneTnk3w7Sbr7i0meP3IoAAAAANa+qW616+57Dlj14IBZAAAAAFhHjptin3uq6rlJuqqOT/Krmdx2BwAAAAAHM80VTxcleW2SU5LsTvLsJP9q4EwAAAAArAPTXPH097v7Xy5fUVXPS/InY0YCAAAAYD2Y5oqn35xyHQAAAAD8jYNe8VRVP5vkuUk2VtW/XrbpCUk2jB4MAAAAgLXtULfaHZ/kcZN9Hr9s/XeT/NLIoQAAAABY+w4anrr7hiQ3VNV/6e6vzXAmAAAAANaBaR4ufn9VvTPJTyV5zP6V3f3CYVMBAAAAsOZN83DxjyX5cpItSf59kr9MctPAmQAAAABYB6YJT3+nuz+U5IfdfUN3vybJGYPnAgAAAGCNm+ZWux9Ovu+pqpcmuTfJpnEjAQAAALAeTBOe/mNV/USSNyX5zSRPSPLGoVMBAAAAsOYdMjxV1YYkW7v7miT3JfknM5kKAAAAgDXvkM946u4Hk5w9o1kAAAAAWEemudXu81X1viQfT/L9/Su7+5ZhUwEAAACw5k0Tnp47+f7ry9Z1khce+3EAAAAAWC8OG56623OdAAAAADhih3zGEwAAAAAcLeEJAAAAgCGEJwAAAACGOGx4qqpXVNXjJz//26r6VFWdNn40AAAAANayaa54+nfd/b2q+sdJfj7JlUneP3YsAAAAANa6acLTg5PvL03y/u6+Osnx40YCAAAAYD2YJjx9vap+O8krk+ysqh+b8rjDqqozq+rOqtpVVZessL2q6r2T7bctv8XvcMcCAAAAMF/TBKRXJrk2yZnd/Z0kT0ryb1b7xlW1IcnlSbYn2ZbkvKradsBu25NsnXxdmMktflMeCwAAAMAcTROeTk7yB919V1W9IMkrknzhGLz36Ul2dffd3f1AkquSnHPAPuck+UgvuTHJCVV18pTHAgAAADBH04SnTyZ5sKqemeRDSbYk+Z1j8N6nJLln2fLuybpp9pnmWAAAAADmaJrw9FB370vyz5K8p7vfmKWroFarVljXU+4zzbFLL1B1YVUtVtXi3r17j3BEAAAAAI7WNOHph1V1XpLzk1wzWffoY/Deu5Ocumx5U5J7p9xnmmOTJN19RXcvdPfCxo0bVz00AAAAANOZJjy9OsnPJvmN7v5qVW1J8tFj8N43JdlaVVuq6vgk5ybZccA+O5KcP/l0uzOS3Nfde6Y8FgAAAIA5Ou5wO3T3X1TVW5M8bbL81SSXrfaNu3tfVV2cpU/M25Dkw919e1VdNNn+gSQ7k5yVZFeS+7MUwQ567GpnAgAAAODYqe4VH430/3eo+oUk/znJ8d29paqeneTXu/vsGcx3TC0sLPTi4uK8xwAAAABYN6rq5u5eWGnbNLfavSPJ6Um+kyTdfWuWPtkOAAAAAA5qmvC0r7vvO2DdoS+TAgAAAOAR77DPeEry51X1L5JsqKqtSX41yefHjgUAAADAWjfNFU+vS/JTSf5vkt9Jcl+SNwycCQAAAIB1YJpPtbs/yaWTLwAAAACYymGveKqq66rqhGXLT6yqa4dOBQAAAMCaN82tdid293f2L3T3/0py0rCJAAAAAFgXpglPD1XV0/YvVNXT41PtAAAAADiMaT7V7tIkf1xVN0yWn5/kwnEjAQAAALAeTPNw8T+qqtOSnJGkkryxu781fDIAAAAA1rRpHi7+T5P8sLuv6e7/lmRfVb18+GQAAAAArGnTPOPp7d193/6FyYPG3z5sIgAAAADWhWnC00r7TPNsKAAAAAAewaYJT4tV9a6qekZV/d2qeneSm0cPBgAAAMDaNk14el2SB5J8PMnvJflBkteOHAoAAACAtW+aT7X7fpJLZjALAAAAAOvIYcNTVX0uSR+4vrtfOGQiAAAAANaFaR4S/uZlPz8myS8m2TdmHAAAAADWi2lutTvwQeJ/UlU3DJoHAAAAgHVimlvtnrRs8VFJ/mGSpwybCAAAAIB1YZpb7W7O0jOeKku32H01ya+MHAoAAACAtW+aW+22zGIQAAAAANaXRx1sQ1X9o6p6yrLl86vq6qp67wG33wEAAADA33LQ8JTkt5M8kCRV9fwklyX5SJL7klwxfjQAAAAA1rJD3Wq3obv/5+Tnf57kiu7+ZJJPVtWtwycDAAAAYE071BVPG6pqf5h6UZLPLts2zUPJAQAAAHgEO1RA+t0kN1TVt5L8nyT/PUmq6plZut0OAAAAAA7qoOGpu3+jqq5PcnKST3d3TzY9KsnrZjEcAAAAAGvXIW+Z6+4bV1j3lXHjAAAAALBeHOoZTwAAAABw1IQnAAAAAIYQngAAAAAYQngCAAAAYAjhCQAAAIAhhCcAAAAAhhCeAAAAABhCeAIAAABgCOEJAAAAgCGEJwAAAACGEJ4AAAAAGEJ4AgAAAGAI4QkAAACAIYQnAAAAAIYQngAAAAAYQngCAAAAYAjhCQAAAIAhhCcAAAAAhhCeAAAAABhCeAIAAABgCOEJAAAAgCGEJwAAAACGmEt4qqonVdV1VXXX5PsTD7LfmVV1Z1XtqqpLlq1/Z1V9uapuq6rfr6oTZjY8AAAAAFOZ1xVPlyS5vru3Jrl+svwjqmpDksuTbE+yLcl5VbVtsvm6JM/q7p9O8pUkb5vJ1AAAAABMbV7h6ZwkV05+vjLJy1fY5/Qku7r77u5+IMlVk+PS3Z/u7n2T/W5MsmnsuAAAAAAcqXmFpyd3954kmXw/aYV9Tklyz7Ll3ZN1B3pNkj882BtV1YVVtVhVi3v37l3FyAAAAAAcieNGvXBVfSbJU1bYdOm0L7HCuj7gPS5Nsi/Jxw72It19RZIrkmRhYaEPth8AAAAAx9aw8NTdLz7Ytqr6RlWd3N17qurkJN9cYbfdSU5dtrwpyb3LXuOCJC9L8qLuFpQAAAAAHmbmdavdjiQXTH6+IMnVK+xzU5KtVbWlqo5Pcu7kuFTVmUnemuTs7r5/BvMCAAAAcITmFZ4uS/KSqroryUsmy6mqp1bVziSZPDz84iTXJrkjySe6+/bJ8e9L8vgk11XVrVX1gVn/AgAAAAAc2rBb7Q6lu7+d5EUrrL83yVnLlncm2bnCfs8cOiAAAAAAqzavK54AAAAAWOeEJwAAAACGEJ4AAAAAGEJ4AgAAAGAI4QkAAACAIYQnAAAAAIYQngAAAAAYQngCAAAAYAjhCQAAAIAhhCcAAAAAhhCeAAAAABhCeAIAAABgCOEJAAAAgCGEJwAAAACGEJ4AAAAAGEJ4AgAAAGAI4QkAAACAIYQnAAAAAIYQngAAAAAYQngCAAAAYAjhCQAAAIAhhCcAAAAAhhCeAAAAABhCeAIAAABgCOEJAAAAgCGEJwAAAACGEJ4AAAAAGEJ4AgAAAGAI4QkAAACAIYQnAAAAAIYQngAAAAAYQngCAAAAYAjhCQAAAIAhhCcAAAAAhhCeAAAAABhCeAIAAABgCOEJAAAAgCGEJwAAAACGEJ4AAAAAGEJ4AgAAAGAI4QkAAACAIYQnAAAAAIYQngAAAAAYQngCAAAAYAjhCQAAAIAhhCcAAAAAhhCeAAAAABhCeAIAAABgCOEJAAAAgCGEJwAAAACGmEt4qqonVdV1VXXX5PsTD7LfmVV1Z1XtqqpLVtj+5qrqqjpx/NQAAAAAHIl5XfF0SZLru3trkusnyz+iqjYkuTzJ9iTbkpxXVduWbT81yUuS/NVMJgYAAADgiMwrPJ2T5MrJz1cmefkK+5yeZFd3393dDyS5anLcfu9O8pYkPXBOAAAAAI7SvMLTk7t7T5JMvp+0wj6nJLln2fLuybpU1dlJvt7dXzzcG1XVhVW1WFWLe/fuXf3kAAAAAEzluFEvXFWfSfKUFTZdOu1LrLCuq+rHJ6/xc9O8SHdfkeSKJFlYWHB1FAAAAMCMDAtP3f3ig22rqm9U1cndvaeqTk7yzRV2253k1GXLm5Lcm+QZSbYk+WJV7V9/S1Wd3t1/fcx+AQAAAABWZV632u1IcsHk5wuSXL3CPjcl2VpVW6rq+CTnJtnR3V/q7pO6e3N3b85SoDpNdAIAAAB4eJlXeLosyUuq6q4sfTLdZUlSVU+tqp1J0t37klyc5NokdyT5RHffPqd5AQAAADhCw261O5Tu/naSF62w/t4kZy1b3plk52Fea/Oxng8AAACA1ZvXFU8AAAAArHPCEwAAAABDCE8AAAAADCE8AQAAADCE8AQAAADAEMITAAAAAEMITwAAAAAMITwBAAAAMITwBAAAAMAQwhMAAAAAQwhPAAAAAAwhPAEAAAAwhPAEAAAAwBDCEwAAAABDCE8AAAAADCE8AQAAADCE8AQAAADAEMITAAAAAEMITwAAAAAMITwBAAAAMITwBAAAAMAQwhMAAAAAQwhPAAAAAAwhPAEAAAAwhPAEAAAAwBDCEwAAAABDCE8AAAAADCE8AQAAADCE8AQAAADAEMITAAAAAEMITwAAAAAMITwBAAAAMITwBAAAAMAQwhMAAAAAQwhPAAAAAAwhPAEAAAAwhPAEAAAAwBDCEwAAAABDCE8AAAAADFHdPe8ZZqaq9ib52rznYN06Mcm35j0ErAHOFZiOcwWm41yB6ThXGOnp3b1xpQ2PqPAEI1XVYncvzHsOeLhzrsB0nCswHecKTMe5wry41Q4AAACAIYQnAAAAAIYQnuDYuWLeA8Aa4VyB6ThXYDrOFZiOc4W58IwnAAAAAIZwxRMAAAAAQwhPcASq6klVdV1V3TX5/sSD7HdmVd1ZVbuq6pIVtr+5qrqqThw/Nczeas+VqnpnVX25qm6rqt+vqhNmNjwMNsXfiKqq906231ZVp017LKwnR3uuVNWpVfW5qrqjqm6vqtfPfnqYndX8XZls31BVf1ZV18xuah5JhCc4Mpckub67tya5frL8I6pqQ5LLk2xPsi3JeVW1bdn2U5O8JMlfzWRimI/VnivXJXlWd/90kq8kedtMpobBDvc3YmJ7kq2TrwuTvP8IjoV1YTXnSpJ9Sd7U3T+Z5Iwkr3WusF6t8lzZ7/VJ7hg8Ko9gwhMcmXOSXDn5+cokL19hn9OT7Oruu7v7gSRXTY7b791J3pLEA9ZYz1Z1rnT3p7t732S/G5NsGjsuzMzh/kZksvyRXnJjkhOq6uQpj4X14qjPle7e0923JEl3fy9L/0F9yiyHhxlazd+VVNWmJC9N8sFZDs0ji/AER+bJ3b0nSSbfT1phn1OS3LNsefdkXarq7CRf7+4vjh4U5mxV58oBXpPkD4/5hDAf0/y7P9g+054zsB6s5lz5G1W1OclzkvzpsR8RHhZWe668J0v/U/yhQfNBjpv3APBwU1WfSfKUFTZdOu1LrLCuq+rHJ6/xc0c7GzycjDpXDniPS7N0y8THjmw6eNg67L/7Q+wzzbGwXqzmXFnaWPW4JJ9M8obu/u4xnA0eTo76XKmqlyX5ZnffXFUvONaDwX7CExygu198sG1V9Y39l3BPLk/95gq77U5y6rLlTUnuTfKMJFuSfLGq9q+/papO7+6/Pma/AMzIwHNl/2tckORlSV7U3f7jmvXikP/uD7PP8VMcC+vFas6VVNWjsxSdPtbdnxo4J8zbas6VX0pydlWdleQxSZ5QVR/t7l8eOC+PQG61gyOzI8kFk58vSHL1CvvclGRrVW2pquOTnJtkR3d/qbtP6u7N3b05S38AThOdWKeO+lxJlj6dJclbk5zd3ffPYF6YlYP+u19mR5LzJ59CdEaS+ya3rE5zLKwXR32u1NL/4ftQkju6+12zHRtm7qjPle5+W3dvmvy3yblJPis6MYIrnuDIXJbkE1X1K1n6VLpXJElVPTXJB7v7rO7eV1UXJ7k2yYYkH+7u2+c2MczHas+V9yX5sSTXTa4QvLG7L5r1LwHH2sH+3VfVRZPtH0iyM8lZSXYluT/Jqw917Bx+DRhuNedKkucleVWSL1XVrZN1v9bdO2f4K8BMrPJcgZkody8AAAAAMIJb7QAAAAAYQngCAAAAYAjhCQAAAIAhhCcAAAAAhhCeAAAAABhCeAIAmJFa8sdVtX3ZuldW1R/Ncy4AgFGqu+c9AwDAI0ZVPSvJ7yV5TpINSW5NcmZ3/4+jeK0N3f3gsZ0QAODYEZ4AAGasqv5Tku8neezk+9OT/IMkxyV5R3dfXVWbk/zXyT5JcnF3f76qXpDk7Un2JHl2d2+b7fQAANMTngAAZqyqHpvkliQPJLkmye3d/dGqOiHJF7J0NVQneai7f1BVW5P8bncvTMLTHyR5Vnd/dR7zAwBM67h5DwAA8EjT3d+vqo8n+d9JXpnkF6rqzZPNj0nytCT3JnlfVT07yYNJ/t6yl/iC6AQArAXCEwDAfDw0+aokv9jddy7fWFXvSPKNJD+TpQ+E+cGyzd+f0YwAAKviU+0AAObr2iSvq6pKkqp6zmT9TyTZ090PJXlVlh5EDgCwpghPAADz9R+SPDrJbVX155PlJPmtJBdU1Y1Zus3OVU4AwJrj4eIAAAAADOGKJwAAAACGEJ4AAAAAGEJ4AgAAAGAI4QkAAACAIYQnAAAAAIYQngAAAAAYQngCAAAAYAjhCQAAAIAh/h/7WBo7sZh7zQAAAABJRU5ErkJggg==\n",
      "text/plain": [
       "<Figure size 1440x432 with 1 Axes>"
      ]
     },
     "metadata": {
      "needs_background": "light"
     },
     "output_type": "display_data"
    }
   ],
   "source": [
    "m_Year.plot(kind='line', figsize = (20,6))\n",
    "plt.ylabel('Success rate')"
   ]
  },
  {
   "cell_type": "markdown",
   "metadata": {},
   "source": [
    "you can observe that the sucess rate since 2013 kept increasing till 2020\n"
   ]
  },
  {
   "cell_type": "markdown",
   "metadata": {},
   "source": [
    "## Features Engineering\n"
   ]
  },
  {
   "cell_type": "markdown",
   "metadata": {},
   "source": [
    "By now, you should obtain some preliminary insights about how each important variable would affect the success rate, we will select the features that will be used in success prediction in the future module.\n"
   ]
  },
  {
   "cell_type": "code",
   "execution_count": 14,
   "metadata": {},
   "outputs": [
    {
     "data": {
      "text/html": [
       "<div>\n",
       "<style scoped>\n",
       "    .dataframe tbody tr th:only-of-type {\n",
       "        vertical-align: middle;\n",
       "    }\n",
       "\n",
       "    .dataframe tbody tr th {\n",
       "        vertical-align: top;\n",
       "    }\n",
       "\n",
       "    .dataframe thead th {\n",
       "        text-align: right;\n",
       "    }\n",
       "</style>\n",
       "<table border=\"1\" class=\"dataframe\">\n",
       "  <thead>\n",
       "    <tr style=\"text-align: right;\">\n",
       "      <th></th>\n",
       "      <th>FlightNumber</th>\n",
       "      <th>PayloadMass</th>\n",
       "      <th>Orbit</th>\n",
       "      <th>LaunchSite</th>\n",
       "      <th>Flights</th>\n",
       "      <th>GridFins</th>\n",
       "      <th>Reused</th>\n",
       "      <th>Legs</th>\n",
       "      <th>LandingPad</th>\n",
       "      <th>Block</th>\n",
       "      <th>ReusedCount</th>\n",
       "      <th>Serial</th>\n",
       "    </tr>\n",
       "  </thead>\n",
       "  <tbody>\n",
       "    <tr>\n",
       "      <th>0</th>\n",
       "      <td>1</td>\n",
       "      <td>6104.959412</td>\n",
       "      <td>LEO</td>\n",
       "      <td>CCAFS SLC 40</td>\n",
       "      <td>1</td>\n",
       "      <td>False</td>\n",
       "      <td>False</td>\n",
       "      <td>False</td>\n",
       "      <td>NaN</td>\n",
       "      <td>1.0</td>\n",
       "      <td>0</td>\n",
       "      <td>B0003</td>\n",
       "    </tr>\n",
       "    <tr>\n",
       "      <th>1</th>\n",
       "      <td>2</td>\n",
       "      <td>525.000000</td>\n",
       "      <td>LEO</td>\n",
       "      <td>CCAFS SLC 40</td>\n",
       "      <td>1</td>\n",
       "      <td>False</td>\n",
       "      <td>False</td>\n",
       "      <td>False</td>\n",
       "      <td>NaN</td>\n",
       "      <td>1.0</td>\n",
       "      <td>0</td>\n",
       "      <td>B0005</td>\n",
       "    </tr>\n",
       "    <tr>\n",
       "      <th>2</th>\n",
       "      <td>3</td>\n",
       "      <td>677.000000</td>\n",
       "      <td>ISS</td>\n",
       "      <td>CCAFS SLC 40</td>\n",
       "      <td>1</td>\n",
       "      <td>False</td>\n",
       "      <td>False</td>\n",
       "      <td>False</td>\n",
       "      <td>NaN</td>\n",
       "      <td>1.0</td>\n",
       "      <td>0</td>\n",
       "      <td>B0007</td>\n",
       "    </tr>\n",
       "    <tr>\n",
       "      <th>3</th>\n",
       "      <td>4</td>\n",
       "      <td>500.000000</td>\n",
       "      <td>PO</td>\n",
       "      <td>VAFB SLC 4E</td>\n",
       "      <td>1</td>\n",
       "      <td>False</td>\n",
       "      <td>False</td>\n",
       "      <td>False</td>\n",
       "      <td>NaN</td>\n",
       "      <td>1.0</td>\n",
       "      <td>0</td>\n",
       "      <td>B1003</td>\n",
       "    </tr>\n",
       "    <tr>\n",
       "      <th>4</th>\n",
       "      <td>5</td>\n",
       "      <td>3170.000000</td>\n",
       "      <td>GTO</td>\n",
       "      <td>CCAFS SLC 40</td>\n",
       "      <td>1</td>\n",
       "      <td>False</td>\n",
       "      <td>False</td>\n",
       "      <td>False</td>\n",
       "      <td>NaN</td>\n",
       "      <td>1.0</td>\n",
       "      <td>0</td>\n",
       "      <td>B1004</td>\n",
       "    </tr>\n",
       "  </tbody>\n",
       "</table>\n",
       "</div>"
      ],
      "text/plain": [
       "   FlightNumber  PayloadMass Orbit    LaunchSite  Flights  GridFins  Reused  \\\n",
       "0             1  6104.959412   LEO  CCAFS SLC 40        1     False   False   \n",
       "1             2   525.000000   LEO  CCAFS SLC 40        1     False   False   \n",
       "2             3   677.000000   ISS  CCAFS SLC 40        1     False   False   \n",
       "3             4   500.000000    PO   VAFB SLC 4E        1     False   False   \n",
       "4             5  3170.000000   GTO  CCAFS SLC 40        1     False   False   \n",
       "\n",
       "    Legs LandingPad  Block  ReusedCount Serial  \n",
       "0  False        NaN    1.0            0  B0003  \n",
       "1  False        NaN    1.0            0  B0005  \n",
       "2  False        NaN    1.0            0  B0007  \n",
       "3  False        NaN    1.0            0  B1003  \n",
       "4  False        NaN    1.0            0  B1004  "
      ]
     },
     "execution_count": 14,
     "metadata": {},
     "output_type": "execute_result"
    }
   ],
   "source": [
    "features = df[['FlightNumber', 'PayloadMass', 'Orbit', 'LaunchSite', 'Flights', 'GridFins', 'Reused', 'Legs', 'LandingPad', 'Block', 'ReusedCount', 'Serial']]\n",
    "features.head()"
   ]
  },
  {
   "cell_type": "markdown",
   "metadata": {},
   "source": [
    "### TASK  7: Create dummy variables to categorical columns\n"
   ]
  },
  {
   "cell_type": "markdown",
   "metadata": {},
   "source": [
    "Use the function <code>get_dummies</code> and <code>features</code> dataframe to apply OneHotEncoder to the column <code>Orbits</code>, <code>LaunchSite</code>, <code>LandingPad</code>, and <code>Serial</code>. Assign the value to the variable <code>features_one_hot</code>, display the results using the method head. Your result dataframe must include all features including the encoded ones.\n"
   ]
  },
  {
   "cell_type": "code",
   "execution_count": 15,
   "metadata": {},
   "outputs": [
    {
     "data": {
      "text/html": [
       "<div>\n",
       "<style scoped>\n",
       "    .dataframe tbody tr th:only-of-type {\n",
       "        vertical-align: middle;\n",
       "    }\n",
       "\n",
       "    .dataframe tbody tr th {\n",
       "        vertical-align: top;\n",
       "    }\n",
       "\n",
       "    .dataframe thead th {\n",
       "        text-align: right;\n",
       "    }\n",
       "</style>\n",
       "<table border=\"1\" class=\"dataframe\">\n",
       "  <thead>\n",
       "    <tr style=\"text-align: right;\">\n",
       "      <th></th>\n",
       "      <th>ES-L1</th>\n",
       "      <th>GEO</th>\n",
       "      <th>GTO</th>\n",
       "      <th>HEO</th>\n",
       "      <th>ISS</th>\n",
       "      <th>LEO</th>\n",
       "      <th>MEO</th>\n",
       "      <th>PO</th>\n",
       "      <th>SO</th>\n",
       "      <th>SSO</th>\n",
       "      <th>...</th>\n",
       "      <th>B1048</th>\n",
       "      <th>B1049</th>\n",
       "      <th>B1050</th>\n",
       "      <th>B1051</th>\n",
       "      <th>B1054</th>\n",
       "      <th>B1056</th>\n",
       "      <th>B1058</th>\n",
       "      <th>B1059</th>\n",
       "      <th>B1060</th>\n",
       "      <th>B1062</th>\n",
       "    </tr>\n",
       "  </thead>\n",
       "  <tbody>\n",
       "    <tr>\n",
       "      <th>0</th>\n",
       "      <td>0</td>\n",
       "      <td>0</td>\n",
       "      <td>0</td>\n",
       "      <td>0</td>\n",
       "      <td>0</td>\n",
       "      <td>1</td>\n",
       "      <td>0</td>\n",
       "      <td>0</td>\n",
       "      <td>0</td>\n",
       "      <td>0</td>\n",
       "      <td>...</td>\n",
       "      <td>0</td>\n",
       "      <td>0</td>\n",
       "      <td>0</td>\n",
       "      <td>0</td>\n",
       "      <td>0</td>\n",
       "      <td>0</td>\n",
       "      <td>0</td>\n",
       "      <td>0</td>\n",
       "      <td>0</td>\n",
       "      <td>0</td>\n",
       "    </tr>\n",
       "    <tr>\n",
       "      <th>1</th>\n",
       "      <td>0</td>\n",
       "      <td>0</td>\n",
       "      <td>0</td>\n",
       "      <td>0</td>\n",
       "      <td>0</td>\n",
       "      <td>1</td>\n",
       "      <td>0</td>\n",
       "      <td>0</td>\n",
       "      <td>0</td>\n",
       "      <td>0</td>\n",
       "      <td>...</td>\n",
       "      <td>0</td>\n",
       "      <td>0</td>\n",
       "      <td>0</td>\n",
       "      <td>0</td>\n",
       "      <td>0</td>\n",
       "      <td>0</td>\n",
       "      <td>0</td>\n",
       "      <td>0</td>\n",
       "      <td>0</td>\n",
       "      <td>0</td>\n",
       "    </tr>\n",
       "    <tr>\n",
       "      <th>2</th>\n",
       "      <td>0</td>\n",
       "      <td>0</td>\n",
       "      <td>0</td>\n",
       "      <td>0</td>\n",
       "      <td>1</td>\n",
       "      <td>0</td>\n",
       "      <td>0</td>\n",
       "      <td>0</td>\n",
       "      <td>0</td>\n",
       "      <td>0</td>\n",
       "      <td>...</td>\n",
       "      <td>0</td>\n",
       "      <td>0</td>\n",
       "      <td>0</td>\n",
       "      <td>0</td>\n",
       "      <td>0</td>\n",
       "      <td>0</td>\n",
       "      <td>0</td>\n",
       "      <td>0</td>\n",
       "      <td>0</td>\n",
       "      <td>0</td>\n",
       "    </tr>\n",
       "    <tr>\n",
       "      <th>3</th>\n",
       "      <td>0</td>\n",
       "      <td>0</td>\n",
       "      <td>0</td>\n",
       "      <td>0</td>\n",
       "      <td>0</td>\n",
       "      <td>0</td>\n",
       "      <td>0</td>\n",
       "      <td>1</td>\n",
       "      <td>0</td>\n",
       "      <td>0</td>\n",
       "      <td>...</td>\n",
       "      <td>0</td>\n",
       "      <td>0</td>\n",
       "      <td>0</td>\n",
       "      <td>0</td>\n",
       "      <td>0</td>\n",
       "      <td>0</td>\n",
       "      <td>0</td>\n",
       "      <td>0</td>\n",
       "      <td>0</td>\n",
       "      <td>0</td>\n",
       "    </tr>\n",
       "    <tr>\n",
       "      <th>4</th>\n",
       "      <td>0</td>\n",
       "      <td>0</td>\n",
       "      <td>1</td>\n",
       "      <td>0</td>\n",
       "      <td>0</td>\n",
       "      <td>0</td>\n",
       "      <td>0</td>\n",
       "      <td>0</td>\n",
       "      <td>0</td>\n",
       "      <td>0</td>\n",
       "      <td>...</td>\n",
       "      <td>0</td>\n",
       "      <td>0</td>\n",
       "      <td>0</td>\n",
       "      <td>0</td>\n",
       "      <td>0</td>\n",
       "      <td>0</td>\n",
       "      <td>0</td>\n",
       "      <td>0</td>\n",
       "      <td>0</td>\n",
       "      <td>0</td>\n",
       "    </tr>\n",
       "  </tbody>\n",
       "</table>\n",
       "<p>5 rows × 72 columns</p>\n",
       "</div>"
      ],
      "text/plain": [
       "   ES-L1  GEO  GTO  HEO  ISS  LEO  MEO  PO  SO  SSO  ...  B1048  B1049  B1050  \\\n",
       "0      0    0    0    0    0    1    0   0   0    0  ...      0      0      0   \n",
       "1      0    0    0    0    0    1    0   0   0    0  ...      0      0      0   \n",
       "2      0    0    0    0    1    0    0   0   0    0  ...      0      0      0   \n",
       "3      0    0    0    0    0    0    0   1   0    0  ...      0      0      0   \n",
       "4      0    0    1    0    0    0    0   0   0    0  ...      0      0      0   \n",
       "\n",
       "   B1051  B1054  B1056  B1058  B1059  B1060  B1062  \n",
       "0      0      0      0      0      0      0      0  \n",
       "1      0      0      0      0      0      0      0  \n",
       "2      0      0      0      0      0      0      0  \n",
       "3      0      0      0      0      0      0      0  \n",
       "4      0      0      0      0      0      0      0  \n",
       "\n",
       "[5 rows x 72 columns]"
      ]
     },
     "execution_count": 15,
     "metadata": {},
     "output_type": "execute_result"
    }
   ],
   "source": [
    "# HINT: Use get_dummies() function on the categorical columns\n",
    "features_one_hot = pd.concat([pd.get_dummies(features['Orbit']),pd.get_dummies(features['LaunchSite']),pd.get_dummies(features['LandingPad']),\n",
    "                      pd.get_dummies(features['Serial'])], axis=1)\n",
    "features_one_hot.head()\n"
   ]
  },
  {
   "cell_type": "code",
   "execution_count": 16,
   "metadata": {},
   "outputs": [
    {
     "ename": "TypeError",
     "evalue": "'tuple' object is not callable",
     "output_type": "error",
     "traceback": [
      "\u001b[0;31m---------------------------------------------------------------------------\u001b[0m",
      "\u001b[0;31mTypeError\u001b[0m                                 Traceback (most recent call last)",
      "\u001b[0;32m<ipython-input-16-fb4a6152e011>\u001b[0m in \u001b[0;36m<module>\u001b[0;34m\u001b[0m\n\u001b[0;32m----> 1\u001b[0;31m \u001b[0mfeatures_one_hot\u001b[0m\u001b[0;34m.\u001b[0m\u001b[0mshape\u001b[0m\u001b[0;34m(\u001b[0m\u001b[0;34m)\u001b[0m\u001b[0;34m\u001b[0m\u001b[0;34m\u001b[0m\u001b[0m\n\u001b[0m",
      "\u001b[0;31mTypeError\u001b[0m: 'tuple' object is not callable"
     ]
    }
   ],
   "source": [
    "# features_one_hot.shape()"
   ]
  },
  {
   "cell_type": "markdown",
   "metadata": {},
   "source": [
    "### TASK  8: Cast all numeric columns to `float64`\n"
   ]
  },
  {
   "cell_type": "markdown",
   "metadata": {},
   "source": [
    "Now that our <code>features_one_hot</code> dataframe only contains numbers cast the entire dataframe to variable type <code>float64</code>\n"
   ]
  },
  {
   "cell_type": "code",
   "execution_count": 17,
   "metadata": {},
   "outputs": [],
   "source": [
    "# HINT: use astype function\n",
    "features_one_hot = features_one_hot.astype('float64')\n"
   ]
  },
  {
   "cell_type": "code",
   "execution_count": 18,
   "metadata": {},
   "outputs": [
    {
     "data": {
      "text/html": [
       "<div>\n",
       "<style scoped>\n",
       "    .dataframe tbody tr th:only-of-type {\n",
       "        vertical-align: middle;\n",
       "    }\n",
       "\n",
       "    .dataframe tbody tr th {\n",
       "        vertical-align: top;\n",
       "    }\n",
       "\n",
       "    .dataframe thead th {\n",
       "        text-align: right;\n",
       "    }\n",
       "</style>\n",
       "<table border=\"1\" class=\"dataframe\">\n",
       "  <thead>\n",
       "    <tr style=\"text-align: right;\">\n",
       "      <th></th>\n",
       "      <th>ES-L1</th>\n",
       "      <th>GEO</th>\n",
       "      <th>GTO</th>\n",
       "      <th>HEO</th>\n",
       "      <th>ISS</th>\n",
       "      <th>LEO</th>\n",
       "      <th>MEO</th>\n",
       "      <th>PO</th>\n",
       "      <th>SO</th>\n",
       "      <th>SSO</th>\n",
       "      <th>...</th>\n",
       "      <th>B1048</th>\n",
       "      <th>B1049</th>\n",
       "      <th>B1050</th>\n",
       "      <th>B1051</th>\n",
       "      <th>B1054</th>\n",
       "      <th>B1056</th>\n",
       "      <th>B1058</th>\n",
       "      <th>B1059</th>\n",
       "      <th>B1060</th>\n",
       "      <th>B1062</th>\n",
       "    </tr>\n",
       "  </thead>\n",
       "  <tbody>\n",
       "    <tr>\n",
       "      <th>0</th>\n",
       "      <td>0.0</td>\n",
       "      <td>0.0</td>\n",
       "      <td>0.0</td>\n",
       "      <td>0.0</td>\n",
       "      <td>0.0</td>\n",
       "      <td>1.0</td>\n",
       "      <td>0.0</td>\n",
       "      <td>0.0</td>\n",
       "      <td>0.0</td>\n",
       "      <td>0.0</td>\n",
       "      <td>...</td>\n",
       "      <td>0.0</td>\n",
       "      <td>0.0</td>\n",
       "      <td>0.0</td>\n",
       "      <td>0.0</td>\n",
       "      <td>0.0</td>\n",
       "      <td>0.0</td>\n",
       "      <td>0.0</td>\n",
       "      <td>0.0</td>\n",
       "      <td>0.0</td>\n",
       "      <td>0.0</td>\n",
       "    </tr>\n",
       "    <tr>\n",
       "      <th>1</th>\n",
       "      <td>0.0</td>\n",
       "      <td>0.0</td>\n",
       "      <td>0.0</td>\n",
       "      <td>0.0</td>\n",
       "      <td>0.0</td>\n",
       "      <td>1.0</td>\n",
       "      <td>0.0</td>\n",
       "      <td>0.0</td>\n",
       "      <td>0.0</td>\n",
       "      <td>0.0</td>\n",
       "      <td>...</td>\n",
       "      <td>0.0</td>\n",
       "      <td>0.0</td>\n",
       "      <td>0.0</td>\n",
       "      <td>0.0</td>\n",
       "      <td>0.0</td>\n",
       "      <td>0.0</td>\n",
       "      <td>0.0</td>\n",
       "      <td>0.0</td>\n",
       "      <td>0.0</td>\n",
       "      <td>0.0</td>\n",
       "    </tr>\n",
       "    <tr>\n",
       "      <th>2</th>\n",
       "      <td>0.0</td>\n",
       "      <td>0.0</td>\n",
       "      <td>0.0</td>\n",
       "      <td>0.0</td>\n",
       "      <td>1.0</td>\n",
       "      <td>0.0</td>\n",
       "      <td>0.0</td>\n",
       "      <td>0.0</td>\n",
       "      <td>0.0</td>\n",
       "      <td>0.0</td>\n",
       "      <td>...</td>\n",
       "      <td>0.0</td>\n",
       "      <td>0.0</td>\n",
       "      <td>0.0</td>\n",
       "      <td>0.0</td>\n",
       "      <td>0.0</td>\n",
       "      <td>0.0</td>\n",
       "      <td>0.0</td>\n",
       "      <td>0.0</td>\n",
       "      <td>0.0</td>\n",
       "      <td>0.0</td>\n",
       "    </tr>\n",
       "    <tr>\n",
       "      <th>3</th>\n",
       "      <td>0.0</td>\n",
       "      <td>0.0</td>\n",
       "      <td>0.0</td>\n",
       "      <td>0.0</td>\n",
       "      <td>0.0</td>\n",
       "      <td>0.0</td>\n",
       "      <td>0.0</td>\n",
       "      <td>1.0</td>\n",
       "      <td>0.0</td>\n",
       "      <td>0.0</td>\n",
       "      <td>...</td>\n",
       "      <td>0.0</td>\n",
       "      <td>0.0</td>\n",
       "      <td>0.0</td>\n",
       "      <td>0.0</td>\n",
       "      <td>0.0</td>\n",
       "      <td>0.0</td>\n",
       "      <td>0.0</td>\n",
       "      <td>0.0</td>\n",
       "      <td>0.0</td>\n",
       "      <td>0.0</td>\n",
       "    </tr>\n",
       "    <tr>\n",
       "      <th>4</th>\n",
       "      <td>0.0</td>\n",
       "      <td>0.0</td>\n",
       "      <td>1.0</td>\n",
       "      <td>0.0</td>\n",
       "      <td>0.0</td>\n",
       "      <td>0.0</td>\n",
       "      <td>0.0</td>\n",
       "      <td>0.0</td>\n",
       "      <td>0.0</td>\n",
       "      <td>0.0</td>\n",
       "      <td>...</td>\n",
       "      <td>0.0</td>\n",
       "      <td>0.0</td>\n",
       "      <td>0.0</td>\n",
       "      <td>0.0</td>\n",
       "      <td>0.0</td>\n",
       "      <td>0.0</td>\n",
       "      <td>0.0</td>\n",
       "      <td>0.0</td>\n",
       "      <td>0.0</td>\n",
       "      <td>0.0</td>\n",
       "    </tr>\n",
       "  </tbody>\n",
       "</table>\n",
       "<p>5 rows × 72 columns</p>\n",
       "</div>"
      ],
      "text/plain": [
       "   ES-L1  GEO  GTO  HEO  ISS  LEO  MEO   PO   SO  SSO  ...  B1048  B1049  \\\n",
       "0    0.0  0.0  0.0  0.0  0.0  1.0  0.0  0.0  0.0  0.0  ...    0.0    0.0   \n",
       "1    0.0  0.0  0.0  0.0  0.0  1.0  0.0  0.0  0.0  0.0  ...    0.0    0.0   \n",
       "2    0.0  0.0  0.0  0.0  1.0  0.0  0.0  0.0  0.0  0.0  ...    0.0    0.0   \n",
       "3    0.0  0.0  0.0  0.0  0.0  0.0  0.0  1.0  0.0  0.0  ...    0.0    0.0   \n",
       "4    0.0  0.0  1.0  0.0  0.0  0.0  0.0  0.0  0.0  0.0  ...    0.0    0.0   \n",
       "\n",
       "   B1050  B1051  B1054  B1056  B1058  B1059  B1060  B1062  \n",
       "0    0.0    0.0    0.0    0.0    0.0    0.0    0.0    0.0  \n",
       "1    0.0    0.0    0.0    0.0    0.0    0.0    0.0    0.0  \n",
       "2    0.0    0.0    0.0    0.0    0.0    0.0    0.0    0.0  \n",
       "3    0.0    0.0    0.0    0.0    0.0    0.0    0.0    0.0  \n",
       "4    0.0    0.0    0.0    0.0    0.0    0.0    0.0    0.0  \n",
       "\n",
       "[5 rows x 72 columns]"
      ]
     },
     "execution_count": 18,
     "metadata": {},
     "output_type": "execute_result"
    }
   ],
   "source": [
    "features_one_hot.head()"
   ]
  },
  {
   "cell_type": "markdown",
   "metadata": {},
   "source": [
    "We can now export it to a <b>CSV</b> for the next section,but to make the answers consistent, in the next lab we will provide data in a pre-selected date range.\n"
   ]
  },
  {
   "cell_type": "markdown",
   "metadata": {},
   "source": [
    "<code>features_one_hot.to_csv('dataset_part\\_3.csv', index=False)</code>\n"
   ]
  },
  {
   "cell_type": "markdown",
   "metadata": {},
   "source": [
    "## Authors\n"
   ]
  },
  {
   "cell_type": "markdown",
   "metadata": {},
   "source": [
    "<a href=\"https://www.linkedin.com/in/joseph-s-50398b136/?utm_medium=Exinfluencer&utm_source=Exinfluencer&utm_content=000026UJ&utm_term=10006555&utm_id=NA-SkillsNetwork-Channel-SkillsNetworkCoursesIBMDS0321ENSkillsNetwork26802033-2022-01-01\">Joseph Santarcangelo</a> has a PhD in Electrical Engineering, his research focused on using machine learning, signal processing, and computer vision to determine how videos impact human cognition. Joseph has been working for IBM since he completed his PhD.\n"
   ]
  },
  {
   "cell_type": "markdown",
   "metadata": {},
   "source": [
    "<a href=\"https://www.linkedin.com/in/nayefaboutayoun/?utm_medium=Exinfluencer&utm_source=Exinfluencer&utm_content=000026UJ&utm_term=10006555&utm_id=NA-SkillsNetwork-Channel-SkillsNetworkCoursesIBMDS0321ENSkillsNetwork26802033-2022-01-01\">Nayef Abou Tayoun</a> is a Data Scientist at IBM and pursuing a Master of Management in Artificial intelligence degree at Queen's University.\n"
   ]
  },
  {
   "cell_type": "markdown",
   "metadata": {},
   "source": [
    "## Change Log\n"
   ]
  },
  {
   "cell_type": "markdown",
   "metadata": {},
   "source": [
    "| Date (YYYY-MM-DD) | Version | Changed By    | Change Description      |\n",
    "| ----------------- | ------- | ------------- | ----------------------- |\n",
    "| 2021-10-12        | 1.1     | Lakshmi Holla | Modified markdown       |\n",
    "| 2020-09-20        | 1.0     | Joseph        | Modified Multiple Areas |\n",
    "| 2020-11-10        | 1.1     | Nayef         | updating the input data |\n"
   ]
  },
  {
   "cell_type": "markdown",
   "metadata": {},
   "source": [
    "Copyright © 2020 IBM Corporation. All rights reserved.\n"
   ]
  }
 ],
 "metadata": {
  "kernelspec": {
   "display_name": "Python 3",
   "language": "python",
   "name": "python3"
  },
  "language_info": {
   "codemirror_mode": {
    "name": "ipython",
    "version": 3
   },
   "file_extension": ".py",
   "mimetype": "text/x-python",
   "name": "python",
   "nbconvert_exporter": "python",
   "pygments_lexer": "ipython3",
   "version": "3.8.10"
  }
 },
 "nbformat": 4,
 "nbformat_minor": 4
}
